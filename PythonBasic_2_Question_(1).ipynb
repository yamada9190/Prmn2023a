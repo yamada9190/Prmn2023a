{
  "nbformat": 4,
  "nbformat_minor": 0,
  "metadata": {
    "colab": {
      "provenance": [],
      "toc_visible": true,
      "include_colab_link": true
    },
    "kernelspec": {
      "name": "python3",
      "display_name": "Python 3"
    },
    "language_info": {
      "name": "python"
    }
  },
  "cells": [
    {
      "cell_type": "markdown",
      "metadata": {
        "id": "view-in-github",
        "colab_type": "text"
      },
      "source": [
        "<a href=\"https://colab.research.google.com/github/yamada9190/Prmn2023a/blob/main/PythonBasic_2_Question_(1).ipynb\" target=\"_parent\"><img src=\"https://colab.research.google.com/assets/colab-badge.svg\" alt=\"Open In Colab\"/></a>"
      ]
    },
    {
      "cell_type": "markdown",
      "source": [
        "# 第2章 課題"
      ],
      "metadata": {
        "id": "C44SsXDACtHu"
      }
    },
    {
      "cell_type": "markdown",
      "source": [
        "## 課題1"
      ],
      "metadata": {
        "id": "OnkezWHRCwr9"
      }
    },
    {
      "cell_type": "markdown",
      "source": [
        "for文を使って、以下のように出力してください"
      ],
      "metadata": {
        "id": "q32rK-cECzCl"
      }
    },
    {
      "cell_type": "markdown",
      "source": [
        "![oSFeQoX.png](https://i.imgur.com/oSFeQoX.png)"
      ],
      "metadata": {
        "id": "FxMcxznVB6cI"
      }
    },
    {
      "cell_type": "code",
      "source": [
        "for i in range(1,5):\n",
        "    print(\" \"*(4-i)+\"*\"*(2*i-1))"
      ],
      "metadata": {
        "id": "iBFSsrdRC5Zt",
        "colab": {
          "base_uri": "https://localhost:8080/"
        },
        "outputId": "97ef0a5a-c88f-48b5-e4a6-2bd23a5b6074"
      },
      "execution_count": null,
      "outputs": [
        {
          "output_type": "stream",
          "name": "stdout",
          "text": [
            "   *\n",
            "  ***\n",
            " *****\n",
            "*******\n"
          ]
        }
      ]
    },
    {
      "cell_type": "markdown",
      "source": [
        "## 課題2"
      ],
      "metadata": {
        "id": "gIn-UqGTCagu"
      }
    },
    {
      "cell_type": "markdown",
      "source": [
        "課題1の場合を`n=4`として、nを自分で設定して出力できるようにしてください"
      ],
      "metadata": {
        "id": "ltdiEdqYDFy8"
      }
    },
    {
      "cell_type": "markdown",
      "source": [
        "＜例＞ n=5の場合  \n",
        "![o5NjugQ.png](https://imgur.com/o5NjugQ.png)"
      ],
      "metadata": {
        "id": "hw0FM8BRDHz1"
      }
    },
    {
      "cell_type": "code",
      "source": [
        "n=int(input(\"input number n=\"))\n",
        "for i in range(1,n+1):\n",
        "    print(\" \"*(n-i)+\"*\"*(2*i-1))"
      ],
      "metadata": {
        "id": "upd76Tv-FrIB",
        "colab": {
          "base_uri": "https://localhost:8080/"
        },
        "outputId": "19e267a8-7b38-4d8f-868b-a1d3df46a15a"
      },
      "execution_count": null,
      "outputs": [
        {
          "output_type": "stream",
          "name": "stdout",
          "text": [
            "input number n=6\n",
            "     *\n",
            "    ***\n",
            "   *****\n",
            "  *******\n",
            " *********\n",
            "***********\n"
          ]
        }
      ]
    },
    {
      "cell_type": "markdown",
      "source": [
        "## 課題3"
      ],
      "metadata": {
        "id": "tLMJvwBDE7wT"
      }
    },
    {
      "cell_type": "markdown",
      "source": [
        "for文を使って、以下のように出力してください"
      ],
      "metadata": {
        "id": "vZNvWsG7E99q"
      }
    },
    {
      "cell_type": "markdown",
      "source": [
        "![oSirXec.png](https://imgur.com/oSirXec.png)"
      ],
      "metadata": {
        "id": "ijOV-ilXGDNR"
      }
    },
    {
      "cell_type": "code",
      "source": [
        "for i in range(1,5):\n",
        "    print(\" \"*(4-i)+\"*\"*(2*i-1))\n",
        "for j in range(1,4):\n",
        "    print(\" \"*j+\"*\"*(7-2*j))"
      ],
      "metadata": {
        "id": "Q5Ob9uZpGIE3",
        "colab": {
          "base_uri": "https://localhost:8080/"
        },
        "outputId": "2f9605d5-5e19-4c76-814a-416c1d606aeb"
      },
      "execution_count": null,
      "outputs": [
        {
          "output_type": "stream",
          "name": "stdout",
          "text": [
            "   *\n",
            "  ***\n",
            " *****\n",
            "*******\n",
            " *****\n",
            "  ***\n",
            "   *\n"
          ]
        }
      ]
    },
    {
      "cell_type": "markdown",
      "source": [
        "## 課題4"
      ],
      "metadata": {
        "id": "Oh7whOPkGQ3I"
      }
    },
    {
      "cell_type": "markdown",
      "source": [
        "課題3の場合を`n=4`として、nを自分で設定して出力できるようにしてください"
      ],
      "metadata": {
        "id": "PnvT8MQbGS03"
      }
    },
    {
      "cell_type": "markdown",
      "source": [
        "＜例＞ n=5の場合  \n",
        "\n",
        "![my4J17V.png](https://i.imgur.com/my4J17V.png)"
      ],
      "metadata": {
        "id": "ZujkAbVMGzhn"
      }
    },
    {
      "cell_type": "code",
      "source": [
        "n=int(input(\"input number n=\"))\n",
        "for i in range(1,n+1):\n",
        "    print(\" \"*(n-i)+\"*\"*(2*i-1))\n",
        "for j in range(1,n):\n",
        "    print(\" \"*j+\"*\"*(2*n-1-2*j))"
      ],
      "metadata": {
        "id": "hCFNQ7mWG99u",
        "colab": {
          "base_uri": "https://localhost:8080/"
        },
        "outputId": "8149573a-579e-45e3-f436-47eee2a07aec"
      },
      "execution_count": null,
      "outputs": [
        {
          "output_type": "stream",
          "name": "stdout",
          "text": [
            "input number n=7\n",
            "      *\n",
            "     ***\n",
            "    *****\n",
            "   *******\n",
            "  *********\n",
            " ***********\n",
            "*************\n",
            " ***********\n",
            "  *********\n",
            "   *******\n",
            "    *****\n",
            "     ***\n",
            "      *\n"
          ]
        }
      ]
    },
    {
      "cell_type": "markdown",
      "source": [
        "## 課題5"
      ],
      "metadata": {
        "id": "R2MvOK4wHJlK"
      }
    },
    {
      "cell_type": "markdown",
      "source": [
        "for文を使って、以下のように出力してください"
      ],
      "metadata": {
        "id": "ddMIUoaKHcwd"
      }
    },
    {
      "cell_type": "markdown",
      "source": [
        "![vDUi5eM.png](https://imgur.com/vDUi5eM.png)"
      ],
      "metadata": {
        "id": "CD1cVUlWHLVO"
      }
    },
    {
      "cell_type": "code",
      "source": [
        "for i in range(1,4):\n",
        "    print(\" \"*(4-i)+\"*\"*(2*i-1)+\" \"*(7-2*i)+\"*\"*(2*i-1))\n",
        "print(\"*\"*13)\n",
        "for j in range(1,4):\n",
        "    print(\" \"*j+\"*\"*(7-2*j)+\" \"*(2*j-1)+\"*\"*(7-2*j))"
      ],
      "metadata": {
        "id": "1pDkfJpUHd93",
        "colab": {
          "base_uri": "https://localhost:8080/"
        },
        "outputId": "beacf988-4fab-49ad-c13c-a8519b1e823a"
      },
      "execution_count": null,
      "outputs": [
        {
          "output_type": "stream",
          "name": "stdout",
          "text": [
            "   *     *\n",
            "  ***   ***\n",
            " ***** *****\n",
            "*************\n",
            " ***** *****\n",
            "  ***   ***\n",
            "   *     *\n"
          ]
        }
      ]
    },
    {
      "cell_type": "markdown",
      "source": [
        "## 課題6"
      ],
      "metadata": {
        "id": "oubbafOBHerl"
      }
    },
    {
      "cell_type": "markdown",
      "source": [
        "課題5の場合を`n=4`として、nを自分で設定して出力できるようにしてください"
      ],
      "metadata": {
        "id": "7SzgFdC-HzG9"
      }
    },
    {
      "cell_type": "markdown",
      "source": [
        "＜例＞ n=5の場合  \n",
        "\n",
        "![udkVlYG.png](https://imgur.com/udkVlYG.png)"
      ],
      "metadata": {
        "id": "LY8g9PVPH2OW"
      }
    },
    {
      "cell_type": "code",
      "source": [
        "n=int(input(\"input number n=\"))\n",
        "for i in range(1,n):\n",
        "    print(\" \"*(n-i)+\"*\"*(2*i-1)+\" \"*(2*n-1-2*i)+\"*\"*(2*i-1))\n",
        "print(\"*\"*(4*n-3))\n",
        "for j in range(1,n):\n",
        "    print(\" \"*j+\"*\"*(2*n-1-2*j)+\" \"*(2*j-1)+\"*\"*(2*n-1-2*j))\n"
      ],
      "metadata": {
        "id": "XZOK5ulbH-tu",
        "colab": {
          "base_uri": "https://localhost:8080/"
        },
        "outputId": "64d8bf66-244e-44e5-c13e-289bd36eeed7"
      },
      "execution_count": null,
      "outputs": [
        {
          "output_type": "stream",
          "name": "stdout",
          "text": [
            "input number n=7\n",
            "      *           *\n",
            "     ***         ***\n",
            "    *****       *****\n",
            "   *******     *******\n",
            "  *********   *********\n",
            " *********** ***********\n",
            "*************************\n",
            " *********** ***********\n",
            "  *********   *********\n",
            "   *******     *******\n",
            "    *****       *****\n",
            "     ***         ***\n",
            "      *           *\n"
          ]
        }
      ]
    },
    {
      "cell_type": "markdown",
      "source": [
        "## 課題7"
      ],
      "metadata": {
        "id": "ouqTUmPQIKGF"
      }
    },
    {
      "cell_type": "markdown",
      "source": [
        "for文を使って、以下のように出力してください"
      ],
      "metadata": {
        "id": "WHSxdOHuIMRM"
      }
    },
    {
      "cell_type": "markdown",
      "source": [
        "![IuP0M16.png](https://imgur.com/IuP0M16.png)"
      ],
      "metadata": {
        "id": "-G--WFTkIM8s"
      }
    },
    {
      "cell_type": "code",
      "source": [
        "for i in range(1,4):\n",
        "    print(\" \"*(4-i)+\"*\"*(2*i-1)+\" \"*(7-2*i)+\"*\"*(2*i-1))\n",
        "print(\"*\"*13)\n",
        "for j in range(1,4):\n",
        "    print(\" \"*j+\"*\"*(7-2*j)+\" \"*(2*j-1)+\"*\"*(7-2*j))\n",
        "for i in range(1,3):\n",
        "    print(\" \"*(3-i)+\"*\"*(2*i+1)+\" \"*(5-2*i)+\"*\"*(2*i+1))\n",
        "print(\"*\"*13)\n",
        "for j in range(1,4):\n",
        "    print(\" \"*j+\"*\"*(7-2*j)+\" \"*(2*j-1)+\"*\"*(7-2*j))\n"
      ],
      "metadata": {
        "id": "BVXjDteuIijL",
        "colab": {
          "base_uri": "https://localhost:8080/"
        },
        "outputId": "6a012f62-8e9c-4181-9ffb-7ce526e49034"
      },
      "execution_count": null,
      "outputs": [
        {
          "output_type": "stream",
          "name": "stdout",
          "text": [
            "   *     *\n",
            "  ***   ***\n",
            " ***** *****\n",
            "*************\n",
            " ***** *****\n",
            "  ***   ***\n",
            "   *     *\n",
            "  ***   ***\n",
            " ***** *****\n",
            "*************\n",
            " ***** *****\n",
            "  ***   ***\n",
            "   *     *\n"
          ]
        }
      ]
    },
    {
      "cell_type": "markdown",
      "source": [
        "## 課題8"
      ],
      "metadata": {
        "id": "31u0ExX2IjWj"
      }
    },
    {
      "cell_type": "markdown",
      "source": [
        "課題7の場合を`n=4`として、nを自分で設定して出力できるようにしてください"
      ],
      "metadata": {
        "id": "zeOvmKarInpz"
      }
    },
    {
      "cell_type": "markdown",
      "source": [
        "＜例＞ n=5の場合  \n",
        "\n",
        "![AlTnu1k.png](https://imgur.com/AlTnu1k.png)"
      ],
      "metadata": {
        "id": "2uLR5sbKIov2"
      }
    },
    {
      "cell_type": "code",
      "source": [
        "n=int(input(\"input number n=\"))\n",
        "for i in range(1,n):\n",
        "    print(\" \"*(n-i)+\"*\"*(2*i-1)+\" \"*(2*n-1-2*i)+\"*\"*(2*i-1))\n",
        "print(\"*\"*(4*n-3))\n",
        "for j in range(1,n):\n",
        "    print(\" \"*j+\"*\"*(2*n-1-2*j)+\" \"*(2*j-1)+\"*\"*(2*n-1-2*j))\n",
        "for i in range(1,n-1):\n",
        "    print(\" \"*(n-1-i)+\"*\"*(2*i+1)+\" \"*(2*n-3-2*i)+\"*\"*(2*i+1))\n",
        "print(\"*\"*(4*n-3))\n",
        "for j in range(1,n):\n",
        "    print(\" \"*j+\"*\"*(2*n-1-2*j)+\" \"*(2*j-1)+\"*\"*(2*n-1-2*j))\n",
        "\n"
      ],
      "metadata": {
        "id": "TXJaIVbYI_Cd",
        "colab": {
          "base_uri": "https://localhost:8080/"
        },
        "outputId": "bb602387-2410-49fd-8cb6-5e12c6354f31"
      },
      "execution_count": null,
      "outputs": [
        {
          "output_type": "stream",
          "name": "stdout",
          "text": [
            "input number n=7\n",
            "      *           *\n",
            "     ***         ***\n",
            "    *****       *****\n",
            "   *******     *******\n",
            "  *********   *********\n",
            " *********** ***********\n",
            "*************************\n",
            " *********** ***********\n",
            "  *********   *********\n",
            "   *******     *******\n",
            "    *****       *****\n",
            "     ***         ***\n",
            "      *           *\n",
            "     ***         ***\n",
            "    *****       *****\n",
            "   *******     *******\n",
            "  *********   *********\n",
            " *********** ***********\n",
            "*************************\n",
            " *********** ***********\n",
            "  *********   *********\n",
            "   *******     *******\n",
            "    *****       *****\n",
            "     ***         ***\n",
            "      *           *\n"
          ]
        }
      ]
    }
  ]
}