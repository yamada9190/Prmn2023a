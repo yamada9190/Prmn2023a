{
  "nbformat": 4,
  "nbformat_minor": 0,
  "metadata": {
    "colab": {
      "provenance": [],
      "include_colab_link": true
    },
    "kernelspec": {
      "name": "python3",
      "display_name": "Python 3"
    },
    "language_info": {
      "name": "python"
    }
  },
  "cells": [
    {
      "cell_type": "markdown",
      "metadata": {
        "id": "view-in-github",
        "colab_type": "text"
      },
      "source": [
        "<a href=\"https://colab.research.google.com/github/yamada9190/Prmn2023a/blob/main/PythonBasic_8_Question_(1).ipynb\" target=\"_parent\"><img src=\"https://colab.research.google.com/assets/colab-badge.svg\" alt=\"Open In Colab\"/></a>"
      ]
    },
    {
      "cell_type": "markdown",
      "source": [
        "<a href=\"https://colab.research.google.com/github/kiryu-3/Prmn2023/blob/main/Python/Python_Basic/question/PythonBasic_8_Question.ipynb\" target=\"_parent\"><img src=\"https://colab.research.google.com/assets/colab-badge.svg\" alt=\"Open In Colab\"/></a>"
      ],
      "metadata": {
        "id": "IoLAPliGuLZM"
      }
    },
    {
      "cell_type": "markdown",
      "source": [
        "# オブジェクト指向1 課題"
      ],
      "metadata": {
        "id": "ZFQrSJHsZEns"
      }
    },
    {
      "cell_type": "markdown",
      "source": [
        "## 課題1"
      ],
      "metadata": {
        "id": "1DGEULJlZLkL"
      }
    },
    {
      "cell_type": "markdown",
      "source": [
        "以下の要件を満たすクラスを作成してください"
      ],
      "metadata": {
        "id": "he1ry54qZP56"
      }
    },
    {
      "cell_type": "markdown",
      "source": [
        "**指示**\n",
        "\n",
        "・ moveメソッド内で「歩いたよ」と出力するInsectクラスを作る  \n",
        "・ moveメソッド内で「飛んだよ」と出力するButterflyクラスを作る     \n",
        "・ moveメソッド内で「跳んだよ」と出力するLocustクラスを作る   \n",
        "・ moveメソッド内で「綺麗に飛んだよ」と出力するSwallowtailButterflyクラスを作る  \n",
        "\n",
        "\n",
        "\n"
      ],
      "metadata": {
        "id": "PkJ0b9znZUMi"
      }
    },
    {
      "cell_type": "markdown",
      "source": [
        "4つのクラスのインスタンスをリストinsect_listに格納してください。  \n",
        "その後、格納した4つのインスタンスからmoveメソッドを呼び出してください。"
      ],
      "metadata": {
        "id": "MOz_aUO4cj-9"
      }
    },
    {
      "cell_type": "code",
      "source": [
        "# 入力用\n",
        "class incect:\n",
        "  def move(self):\n",
        "    print(\"歩いたよ\")\n",
        "\n",
        "class butterfly:\n",
        "  def move(self):\n",
        "    print(\"飛んだよ\")\n",
        "\n",
        "class locust:\n",
        "  def move(self):\n",
        "    print(\"跳んだよ\")\n",
        "\n",
        "class swallowtailbutterfly:\n",
        "  def move(self):\n",
        "    print(\"綺麗に飛んだよ\")\n",
        "\n",
        "incect_list=[incect(),butterfly(),locust(),swallowtailbutterfly()]\n",
        "\n",
        "for n in incect_list:\n",
        "  n.move()"
      ],
      "metadata": {
        "id": "p1fSdDIhrYbf",
        "colab": {
          "base_uri": "https://localhost:8080/"
        },
        "outputId": "675e44da-e923-41cd-ed4e-842270763d71"
      },
      "execution_count": 8,
      "outputs": [
        {
          "output_type": "stream",
          "name": "stdout",
          "text": [
            "歩いたよ\n",
            "飛んだよ\n",
            "跳んだよ\n",
            "綺麗に飛んだよ\n"
          ]
        }
      ]
    },
    {
      "cell_type": "markdown",
      "source": [
        "## 課題2\n",
        "\n"
      ],
      "metadata": {
        "id": "sxV6gRm8djFh"
      }
    },
    {
      "cell_type": "markdown",
      "source": [
        "以下の要件を満たすクラスを作成してください"
      ],
      "metadata": {
        "id": "AXc3PV3ddkyJ"
      }
    },
    {
      "cell_type": "markdown",
      "source": [
        "**指示**\n",
        "\n",
        "・ クラス名は Car、属性として変数fuelを持つ  \n",
        "\n",
        "・ 引数なしコンストラクタでfuelを0で初期化する\n",
        "\n",
        "・ メソッドとして戻り値、引数無しのrun() を持つ\n",
        "\n",
        "・ run()メソッドではfuelを1消費して、走ったことが分かる文言を表示させる  \n",
        "     \t  　(例:  \"燃料を1消費して走りました。\")\n",
        "\t\t\t\t  \n",
        "・ fuelが0以下の時走れなかったことが分かる文言を表示させる\n",
        "        \n",
        "\n",
        "\n"
      ],
      "metadata": {
        "id": "kvvx9u5Kdh8i"
      }
    },
    {
      "cell_type": "markdown",
      "source": [
        "Carに給油をするGasStationクラスを作成してください    \n",
        "\n",
        "・ クラス名はGasStation、コンストラクタ無し\n",
        "\n",
        "・ refuel()メソッドを持つ  \n",
        "\n",
        "・ refuel()ではCarのfuelを20増やす  \n",
        "\n",
        "・ refuel()では給油したことが分かる文言を表示する"
      ],
      "metadata": {
        "id": "SZD3JsY_dUZc"
      }
    },
    {
      "cell_type": "markdown",
      "source": [
        "CarとGasStationをインスタンス化し、  \n",
        "GasStationで給油をする前と後でCarのrun()を呼び出してください"
      ],
      "metadata": {
        "id": "mtvFz04Dc4bl"
      }
    },
    {
      "cell_type": "markdown",
      "source": [
        "＜メイン部分のコード（固定）＞"
      ],
      "metadata": {
        "id": "Hk4WYMCXMtf1"
      }
    },
    {
      "cell_type": "code",
      "source": [
        "car = Car()\n",
        "gasstation = GasStation()\n",
        "\n",
        "car.run()\n",
        "gasstation.refuel(car)\n",
        "car.run()"
      ],
      "metadata": {
        "id": "1j_9Ub9ZMuNE",
        "colab": {
          "base_uri": "https://localhost:8080/",
          "height": 245
        },
        "outputId": "bb19b6d8-d93d-419d-e3a1-e4003b4a9757"
      },
      "execution_count": 4,
      "outputs": [
        {
          "output_type": "error",
          "ename": "NameError",
          "evalue": "ignored",
          "traceback": [
            "\u001b[0;31m---------------------------------------------------------------------------\u001b[0m",
            "\u001b[0;31mNameError\u001b[0m                                 Traceback (most recent call last)",
            "\u001b[0;32m<ipython-input-4-9c1dadb2446a>\u001b[0m in \u001b[0;36m<cell line: 1>\u001b[0;34m()\u001b[0m\n\u001b[0;32m----> 1\u001b[0;31m \u001b[0mcar\u001b[0m \u001b[0;34m=\u001b[0m \u001b[0mCar\u001b[0m\u001b[0;34m(\u001b[0m\u001b[0;34m)\u001b[0m\u001b[0;34m\u001b[0m\u001b[0;34m\u001b[0m\u001b[0m\n\u001b[0m\u001b[1;32m      2\u001b[0m \u001b[0mgasstation\u001b[0m \u001b[0;34m=\u001b[0m \u001b[0mGasStation\u001b[0m\u001b[0;34m(\u001b[0m\u001b[0;34m)\u001b[0m\u001b[0;34m\u001b[0m\u001b[0;34m\u001b[0m\u001b[0m\n\u001b[1;32m      3\u001b[0m \u001b[0;34m\u001b[0m\u001b[0m\n\u001b[1;32m      4\u001b[0m \u001b[0mcar\u001b[0m\u001b[0;34m.\u001b[0m\u001b[0mrun\u001b[0m\u001b[0;34m(\u001b[0m\u001b[0;34m)\u001b[0m\u001b[0;34m\u001b[0m\u001b[0;34m\u001b[0m\u001b[0m\n\u001b[1;32m      5\u001b[0m \u001b[0mgasstation\u001b[0m\u001b[0;34m.\u001b[0m\u001b[0mrefuel\u001b[0m\u001b[0;34m(\u001b[0m\u001b[0mcar\u001b[0m\u001b[0;34m)\u001b[0m\u001b[0;34m\u001b[0m\u001b[0;34m\u001b[0m\u001b[0m\n",
            "\u001b[0;31mNameError\u001b[0m: name 'Car' is not defined"
          ]
        }
      ]
    },
    {
      "cell_type": "markdown",
      "source": [
        "＜実行結果例＞\n",
        "\n",
        "```\n",
        "燃料が足りないため走れませんでした。\n",
        "給油したことによりfuelが20増えました。\n",
        "燃料を1消費して走りました。\n",
        "```"
      ],
      "metadata": {
        "id": "RNXwj-VBeFPQ"
      }
    },
    {
      "cell_type": "code",
      "source": [
        "# 入力用\n",
        "class Car:\n",
        "  def __init__(self):\n",
        "    self.fuel = 0\n",
        "\n",
        "  def run(self):\n",
        "    if self.fuel > 0:\n",
        "      self.fuel -= 1\n",
        "      print(\"燃料を1消費して走りました\")\n",
        "    else:\n",
        "      print(\"燃料が足りないため走れませんでした\")\n",
        "\n",
        "class GasStation:\n",
        "  def refuel(self,car):\n",
        "    car.fuel += 20\n",
        "    print(\"給油したことによりfuelが20増えました\")\n",
        "car = Car()\n",
        "gasstation = GasStation()\n",
        "\n",
        "car.run()\n",
        "gasstation.refuel(car)\n",
        "car.run()"
      ],
      "metadata": {
        "id": "jpQTz1Kxra7P",
        "colab": {
          "base_uri": "https://localhost:8080/"
        },
        "outputId": "b3ede2a7-bc12-4adc-ebfc-0a4d510aacd2"
      },
      "execution_count": 1,
      "outputs": [
        {
          "output_type": "stream",
          "name": "stdout",
          "text": [
            "燃料が足りないため走れませんでした\n",
            "給油したことによりfuelが20増えました\n",
            "燃料を1消費して走りました\n"
          ]
        }
      ]
    },
    {
      "cell_type": "markdown",
      "source": [
        "## 課題3"
      ],
      "metadata": {
        "id": "GCHVpQ4aV_UR"
      }
    },
    {
      "cell_type": "markdown",
      "source": [
        "以下の要件を満たすクラスを作成してください"
      ],
      "metadata": {
        "id": "ECrnt9e5WJSc"
      }
    },
    {
      "cell_type": "markdown",
      "source": [
        "**指示**\n",
        "\n",
        "口座情報を管理するAccountクラスを作成してください  \n",
        "\n",
        "・ name（名前）, number（口座番号）, balance（残高）を属性にもつ  \n",
        "\n",
        "・ コンストラクタでは、balanceを0で初期化する\n",
        "\n"
      ],
      "metadata": {
        "id": "SA6Tbw_lXehC"
      }
    },
    {
      "cell_type": "markdown",
      "source": [
        "銀行でのお金のやり取りを行うATMクラスを作成してください  \n",
        "\n",
        "・ ATMのコンストラクタでAccountのインスタンスを管理するaccountsを初期化する\n",
        "\n",
        "・ register_account()メソッドではアカウントを登録する    \n",
        " 　 この中でAccountクラスをnameとnubmerを引数としてインスタンス化する  \n",
        "\n",
        "・ exists_account()メソッドは引数のnameとnumberから    \n",
        "   　 accountsに存在するかどうかをbooleanで返す  \n",
        "\n",
        "・ deposit()メソッドでは引数のmoneyを使って入金を行う  \n",
        "\n",
        "・ withdraw()メソッドでは引数のmoneyを使って引出を行う    \n",
        " 　 残高が足りないときには行えないようにする\n",
        "        \n"
      ],
      "metadata": {
        "id": "M2FE_MUndc4z"
      }
    },
    {
      "cell_type": "markdown",
      "source": [
        "それぞれ何か行うたびに、何をしたか分かるように標準出力で表示するようにしてください"
      ],
      "metadata": {
        "id": "-tmD0hewdiS1"
      }
    },
    {
      "cell_type": "markdown",
      "source": [
        "＜メイン部分のコード（固定）＞"
      ],
      "metadata": {
        "id": "fr8xuuUHM7Jt"
      }
    },
    {
      "cell_type": "code",
      "source": [
        "atm = ATM()\n",
        "\n",
        "atm.exists_account(\"千歳太郎\",\"12345\")\n",
        "atm.register_account(\"千歳太郎\",\"12345\")\n",
        "\n",
        "if atm.exists_account(\"千歳太郎\",\"12345\"):\n",
        "  atm.deposit(\"12345\", 1000)\n",
        "  atm.withdraw(\"12345\", 2000)\n",
        "  atm.withdraw(\"12345\", 500)"
      ],
      "metadata": {
        "id": "Y4lMggHOM4wU"
      },
      "execution_count": null,
      "outputs": []
    },
    {
      "cell_type": "markdown",
      "source": [
        "＜実行結果例＞\n",
        "\n",
        "```\n",
        "名前:千歳太郎 口座番号:12345 は存在しません。\n",
        "千歳太郎 さんのアカウントを口座番号:12345 で登録しました。\n",
        "名前:千歳太郎 口座番号:12345 は存在します。\n",
        "口座番号:12345 に1000 円入金しました。\n",
        "口座番号:12345 から2000 円引き出せませんでした。残高:1000 円です。\n",
        "口座番号:12345 から500 円引き出しました。残高:500 円です。\n",
        "```"
      ],
      "metadata": {
        "id": "0zUHE9eHe5-Z"
      }
    },
    {
      "cell_type": "code",
      "source": [
        "class Account:\n",
        "    def __init__(self, name, number):\n",
        "        self.name = name\n",
        "        self.number = number\n",
        "        self.balance = 0\n",
        "\n",
        "class ATM:\n",
        "    def __init__(self):\n",
        "        self.accounts = []\n",
        "\n",
        "    def register_account(self, name, number):\n",
        "        account = Account(name, number)\n",
        "        self.accounts.append(account)\n",
        "        print(\"{} さんのアカウントを口座番号 {} で登録しました\".format(name, number))\n",
        "\n",
        "    def exists_account(self, name, number):\n",
        "        for account in self.accounts:\n",
        "            if account.number == number:\n",
        "              print(\"名前:{} 口座番号:{} は存在します。\".format(account.name,account.number))\n",
        "              return True\n",
        "        print(\"名前:{} 口座番号:{} は存在しません。\".format(name,number))\n",
        "        return False\n",
        "\n",
        "    def deposit(self, number, money):\n",
        "        for account in self.accounts:\n",
        "            if account.number == number:\n",
        "                account.balance += money\n",
        "                print(\"口座番号 {} に {} 円入金しました\".format(account.number, money))\n",
        "                break\n",
        "\n",
        "    def withdraw(self, number, money):\n",
        "        for account in self.accounts:\n",
        "            if account.number == number:\n",
        "                if account.balance >= money:\n",
        "                    account.balance -= money\n",
        "                    print(\"口座番号 {} から {} 円引き出しました。残高は {} 円です。\".format(account.number, money, account.balance))\n",
        "                else:\n",
        "                    print(\"口座番号 {} から {} 円引き出せませんでした。残高は {} 円です。\".format(account.number, money, account.balance))\n",
        "                break\n",
        "\n",
        "atm = ATM()\n",
        "\n",
        "atm.exists_account(\"千歳太郎\",\"12345\")\n",
        "atm.register_account(\"千歳太郎\",\"12345\")\n",
        "\n",
        "if atm.exists_account(\"千歳太郎\",\"12345\"):\n",
        "  atm.deposit(\"12345\", 1000)\n",
        "  atm.withdraw(\"12345\", 2000)\n",
        "  atm.withdraw(\"12345\", 500)"
      ],
      "metadata": {
        "id": "ckaSfHW4rbt-",
        "colab": {
          "base_uri": "https://localhost:8080/"
        },
        "outputId": "e66c74d1-5b75-4bcb-f883-6c5b2d766d86"
      },
      "execution_count": 10,
      "outputs": [
        {
          "output_type": "stream",
          "name": "stdout",
          "text": [
            "名前:千歳太郎 口座番号:12345 は存在しません。\n",
            "千歳太郎 さんのアカウントを口座番号 12345 で登録しました\n",
            "名前:千歳太郎 口座番号:12345 は存在します。\n",
            "口座番号 12345 に 1000 円入金しました\n",
            "口座番号 12345 から 2000 円引き出せませんでした。残高は 1000 円です。\n",
            "口座番号 12345 から 500 円引き出しました。残高は 500 円です。\n"
          ]
        }
      ]
    }
  ]
}